{
  "nbformat": 4,
  "nbformat_minor": 0,
  "metadata": {
    "colab": {
      "provenance": []
    },
    "kernelspec": {
      "name": "python3",
      "display_name": "Python 3"
    },
    "language_info": {
      "name": "python"
    }
  },
  "cells": [
    {
      "cell_type": "code",
      "execution_count": 1,
      "metadata": {
        "id": "gdeceWTfyruL"
      },
      "outputs": [],
      "source": [
        "!pip install pmdarima\n",
        "import pandas as pd\n",
        "import matplotlib.pyplot as plt\n",
        "import numpy as np"
      ]
    },
    {
      "cell_type": "code",
      "source": [
        "data=pd.read_csv(\"/content/AAPL.csv\",parse_dates=True,infer_datetime_format=True)"
      ],
      "metadata": {
        "id": "8DfjvEFG1kha"
      },
      "execution_count": 2,
      "outputs": []
    },
    {
      "cell_type": "code",
      "source": [
        "data.head(15)"
      ],
      "metadata": {
        "colab": {
          "base_uri": "https://localhost:8080/",
          "height": 520
        },
        "id": "RpY22lR21xT1",
        "outputId": "9de785de-dab3-4c84-bdda-38b6989c47aa"
      },
      "execution_count": 3,
      "outputs": [
        {
          "output_type": "execute_result",
          "data": {
            "text/plain": [
              "                     Datetime        Open        High         Low       Close  \\\n",
              "0   2022-07-27 12:00:00-04:00  154.160004  154.259995  154.014999  154.220001   \n",
              "1   2022-07-27 12:05:00-04:00  154.220001  154.300003  154.125000  154.235001   \n",
              "2   2022-07-27 12:10:00-04:00  154.229996  154.419998  154.149994  154.414993   \n",
              "3   2022-07-27 12:15:00-04:00  154.414993  154.520004  154.339996  154.440002   \n",
              "4   2022-07-27 12:20:00-04:00  154.440002  154.485001  154.360001  154.399994   \n",
              "5   2022-07-27 12:25:00-04:00  154.389999  154.559998  154.300003  154.384995   \n",
              "6   2022-07-27 12:30:00-04:00  154.389999  154.395004  154.250000  154.259995   \n",
              "7   2022-07-27 12:35:00-04:00  154.260101  154.300003  154.145004  154.201508   \n",
              "8   2022-07-27 12:40:00-04:00  154.205002  154.320007  154.115005  154.191696   \n",
              "9   2022-07-27 12:45:00-04:00  154.195007  154.279999  154.059998  154.149994   \n",
              "10  2022-07-27 12:50:00-04:00  154.145004  154.399994  154.139999  154.360001   \n",
              "11  2022-07-27 12:55:00-04:00  154.360001  154.369995  154.200104  154.259995   \n",
              "12  2022-07-27 13:00:00-04:00  154.250000  154.339996  154.160004  154.325500   \n",
              "13  2022-07-27 13:05:00-04:00  154.321594  154.470001  154.220001  154.452194   \n",
              "14  2022-07-27 13:10:00-04:00  154.451294  154.570007  154.440002  154.524994   \n",
              "\n",
              "     Adj Close   Volume  \n",
              "0   154.220001        0  \n",
              "1   154.235001   334022  \n",
              "2   154.414993   388741  \n",
              "3   154.440002   427884  \n",
              "4   154.399994   306407  \n",
              "5   154.384995   470588  \n",
              "6   154.259995   338789  \n",
              "7   154.201508   360788  \n",
              "8   154.191696   349347  \n",
              "9   154.149994  1337671  \n",
              "10  154.360001   329103  \n",
              "11  154.259995   349794  \n",
              "12  154.325500   339585  \n",
              "13  154.452194   378332  \n",
              "14  154.524994   408492  "
            ],
            "text/html": [
              "\n",
              "  <div id=\"df-65608c47-7b97-4d5f-8b5f-759119770193\">\n",
              "    <div class=\"colab-df-container\">\n",
              "      <div>\n",
              "<style scoped>\n",
              "    .dataframe tbody tr th:only-of-type {\n",
              "        vertical-align: middle;\n",
              "    }\n",
              "\n",
              "    .dataframe tbody tr th {\n",
              "        vertical-align: top;\n",
              "    }\n",
              "\n",
              "    .dataframe thead th {\n",
              "        text-align: right;\n",
              "    }\n",
              "</style>\n",
              "<table border=\"1\" class=\"dataframe\">\n",
              "  <thead>\n",
              "    <tr style=\"text-align: right;\">\n",
              "      <th></th>\n",
              "      <th>Datetime</th>\n",
              "      <th>Open</th>\n",
              "      <th>High</th>\n",
              "      <th>Low</th>\n",
              "      <th>Close</th>\n",
              "      <th>Adj Close</th>\n",
              "      <th>Volume</th>\n",
              "    </tr>\n",
              "  </thead>\n",
              "  <tbody>\n",
              "    <tr>\n",
              "      <th>0</th>\n",
              "      <td>2022-07-27 12:00:00-04:00</td>\n",
              "      <td>154.160004</td>\n",
              "      <td>154.259995</td>\n",
              "      <td>154.014999</td>\n",
              "      <td>154.220001</td>\n",
              "      <td>154.220001</td>\n",
              "      <td>0</td>\n",
              "    </tr>\n",
              "    <tr>\n",
              "      <th>1</th>\n",
              "      <td>2022-07-27 12:05:00-04:00</td>\n",
              "      <td>154.220001</td>\n",
              "      <td>154.300003</td>\n",
              "      <td>154.125000</td>\n",
              "      <td>154.235001</td>\n",
              "      <td>154.235001</td>\n",
              "      <td>334022</td>\n",
              "    </tr>\n",
              "    <tr>\n",
              "      <th>2</th>\n",
              "      <td>2022-07-27 12:10:00-04:00</td>\n",
              "      <td>154.229996</td>\n",
              "      <td>154.419998</td>\n",
              "      <td>154.149994</td>\n",
              "      <td>154.414993</td>\n",
              "      <td>154.414993</td>\n",
              "      <td>388741</td>\n",
              "    </tr>\n",
              "    <tr>\n",
              "      <th>3</th>\n",
              "      <td>2022-07-27 12:15:00-04:00</td>\n",
              "      <td>154.414993</td>\n",
              "      <td>154.520004</td>\n",
              "      <td>154.339996</td>\n",
              "      <td>154.440002</td>\n",
              "      <td>154.440002</td>\n",
              "      <td>427884</td>\n",
              "    </tr>\n",
              "    <tr>\n",
              "      <th>4</th>\n",
              "      <td>2022-07-27 12:20:00-04:00</td>\n",
              "      <td>154.440002</td>\n",
              "      <td>154.485001</td>\n",
              "      <td>154.360001</td>\n",
              "      <td>154.399994</td>\n",
              "      <td>154.399994</td>\n",
              "      <td>306407</td>\n",
              "    </tr>\n",
              "    <tr>\n",
              "      <th>5</th>\n",
              "      <td>2022-07-27 12:25:00-04:00</td>\n",
              "      <td>154.389999</td>\n",
              "      <td>154.559998</td>\n",
              "      <td>154.300003</td>\n",
              "      <td>154.384995</td>\n",
              "      <td>154.384995</td>\n",
              "      <td>470588</td>\n",
              "    </tr>\n",
              "    <tr>\n",
              "      <th>6</th>\n",
              "      <td>2022-07-27 12:30:00-04:00</td>\n",
              "      <td>154.389999</td>\n",
              "      <td>154.395004</td>\n",
              "      <td>154.250000</td>\n",
              "      <td>154.259995</td>\n",
              "      <td>154.259995</td>\n",
              "      <td>338789</td>\n",
              "    </tr>\n",
              "    <tr>\n",
              "      <th>7</th>\n",
              "      <td>2022-07-27 12:35:00-04:00</td>\n",
              "      <td>154.260101</td>\n",
              "      <td>154.300003</td>\n",
              "      <td>154.145004</td>\n",
              "      <td>154.201508</td>\n",
              "      <td>154.201508</td>\n",
              "      <td>360788</td>\n",
              "    </tr>\n",
              "    <tr>\n",
              "      <th>8</th>\n",
              "      <td>2022-07-27 12:40:00-04:00</td>\n",
              "      <td>154.205002</td>\n",
              "      <td>154.320007</td>\n",
              "      <td>154.115005</td>\n",
              "      <td>154.191696</td>\n",
              "      <td>154.191696</td>\n",
              "      <td>349347</td>\n",
              "    </tr>\n",
              "    <tr>\n",
              "      <th>9</th>\n",
              "      <td>2022-07-27 12:45:00-04:00</td>\n",
              "      <td>154.195007</td>\n",
              "      <td>154.279999</td>\n",
              "      <td>154.059998</td>\n",
              "      <td>154.149994</td>\n",
              "      <td>154.149994</td>\n",
              "      <td>1337671</td>\n",
              "    </tr>\n",
              "    <tr>\n",
              "      <th>10</th>\n",
              "      <td>2022-07-27 12:50:00-04:00</td>\n",
              "      <td>154.145004</td>\n",
              "      <td>154.399994</td>\n",
              "      <td>154.139999</td>\n",
              "      <td>154.360001</td>\n",
              "      <td>154.360001</td>\n",
              "      <td>329103</td>\n",
              "    </tr>\n",
              "    <tr>\n",
              "      <th>11</th>\n",
              "      <td>2022-07-27 12:55:00-04:00</td>\n",
              "      <td>154.360001</td>\n",
              "      <td>154.369995</td>\n",
              "      <td>154.200104</td>\n",
              "      <td>154.259995</td>\n",
              "      <td>154.259995</td>\n",
              "      <td>349794</td>\n",
              "    </tr>\n",
              "    <tr>\n",
              "      <th>12</th>\n",
              "      <td>2022-07-27 13:00:00-04:00</td>\n",
              "      <td>154.250000</td>\n",
              "      <td>154.339996</td>\n",
              "      <td>154.160004</td>\n",
              "      <td>154.325500</td>\n",
              "      <td>154.325500</td>\n",
              "      <td>339585</td>\n",
              "    </tr>\n",
              "    <tr>\n",
              "      <th>13</th>\n",
              "      <td>2022-07-27 13:05:00-04:00</td>\n",
              "      <td>154.321594</td>\n",
              "      <td>154.470001</td>\n",
              "      <td>154.220001</td>\n",
              "      <td>154.452194</td>\n",
              "      <td>154.452194</td>\n",
              "      <td>378332</td>\n",
              "    </tr>\n",
              "    <tr>\n",
              "      <th>14</th>\n",
              "      <td>2022-07-27 13:10:00-04:00</td>\n",
              "      <td>154.451294</td>\n",
              "      <td>154.570007</td>\n",
              "      <td>154.440002</td>\n",
              "      <td>154.524994</td>\n",
              "      <td>154.524994</td>\n",
              "      <td>408492</td>\n",
              "    </tr>\n",
              "  </tbody>\n",
              "</table>\n",
              "</div>\n",
              "      <button class=\"colab-df-convert\" onclick=\"convertToInteractive('df-65608c47-7b97-4d5f-8b5f-759119770193')\"\n",
              "              title=\"Convert this dataframe to an interactive table.\"\n",
              "              style=\"display:none;\">\n",
              "        \n",
              "  <svg xmlns=\"http://www.w3.org/2000/svg\" height=\"24px\"viewBox=\"0 0 24 24\"\n",
              "       width=\"24px\">\n",
              "    <path d=\"M0 0h24v24H0V0z\" fill=\"none\"/>\n",
              "    <path d=\"M18.56 5.44l.94 2.06.94-2.06 2.06-.94-2.06-.94-.94-2.06-.94 2.06-2.06.94zm-11 1L8.5 8.5l.94-2.06 2.06-.94-2.06-.94L8.5 2.5l-.94 2.06-2.06.94zm10 10l.94 2.06.94-2.06 2.06-.94-2.06-.94-.94-2.06-.94 2.06-2.06.94z\"/><path d=\"M17.41 7.96l-1.37-1.37c-.4-.4-.92-.59-1.43-.59-.52 0-1.04.2-1.43.59L10.3 9.45l-7.72 7.72c-.78.78-.78 2.05 0 2.83L4 21.41c.39.39.9.59 1.41.59.51 0 1.02-.2 1.41-.59l7.78-7.78 2.81-2.81c.8-.78.8-2.07 0-2.86zM5.41 20L4 18.59l7.72-7.72 1.47 1.35L5.41 20z\"/>\n",
              "  </svg>\n",
              "      </button>\n",
              "      \n",
              "  <style>\n",
              "    .colab-df-container {\n",
              "      display:flex;\n",
              "      flex-wrap:wrap;\n",
              "      gap: 12px;\n",
              "    }\n",
              "\n",
              "    .colab-df-convert {\n",
              "      background-color: #E8F0FE;\n",
              "      border: none;\n",
              "      border-radius: 50%;\n",
              "      cursor: pointer;\n",
              "      display: none;\n",
              "      fill: #1967D2;\n",
              "      height: 32px;\n",
              "      padding: 0 0 0 0;\n",
              "      width: 32px;\n",
              "    }\n",
              "\n",
              "    .colab-df-convert:hover {\n",
              "      background-color: #E2EBFA;\n",
              "      box-shadow: 0px 1px 2px rgba(60, 64, 67, 0.3), 0px 1px 3px 1px rgba(60, 64, 67, 0.15);\n",
              "      fill: #174EA6;\n",
              "    }\n",
              "\n",
              "    [theme=dark] .colab-df-convert {\n",
              "      background-color: #3B4455;\n",
              "      fill: #D2E3FC;\n",
              "    }\n",
              "\n",
              "    [theme=dark] .colab-df-convert:hover {\n",
              "      background-color: #434B5C;\n",
              "      box-shadow: 0px 1px 3px 1px rgba(0, 0, 0, 0.15);\n",
              "      filter: drop-shadow(0px 1px 2px rgba(0, 0, 0, 0.3));\n",
              "      fill: #FFFFFF;\n",
              "    }\n",
              "  </style>\n",
              "\n",
              "      <script>\n",
              "        const buttonEl =\n",
              "          document.querySelector('#df-65608c47-7b97-4d5f-8b5f-759119770193 button.colab-df-convert');\n",
              "        buttonEl.style.display =\n",
              "          google.colab.kernel.accessAllowed ? 'block' : 'none';\n",
              "\n",
              "        async function convertToInteractive(key) {\n",
              "          const element = document.querySelector('#df-65608c47-7b97-4d5f-8b5f-759119770193');\n",
              "          const dataTable =\n",
              "            await google.colab.kernel.invokeFunction('convertToInteractive',\n",
              "                                                     [key], {});\n",
              "          if (!dataTable) return;\n",
              "\n",
              "          const docLinkHtml = 'Like what you see? Visit the ' +\n",
              "            '<a target=\"_blank\" href=https://colab.research.google.com/notebooks/data_table.ipynb>data table notebook</a>'\n",
              "            + ' to learn more about interactive tables.';\n",
              "          element.innerHTML = '';\n",
              "          dataTable['output_type'] = 'display_data';\n",
              "          await google.colab.output.renderOutput(dataTable, element);\n",
              "          const docLink = document.createElement('div');\n",
              "          docLink.innerHTML = docLinkHtml;\n",
              "          element.appendChild(docLink);\n",
              "        }\n",
              "      </script>\n",
              "    </div>\n",
              "  </div>\n",
              "  "
            ]
          },
          "metadata": {},
          "execution_count": 3
        }
      ]
    },
    {
      "cell_type": "code",
      "source": [
        "data.tail()"
      ],
      "metadata": {
        "colab": {
          "base_uri": "https://localhost:8080/",
          "height": 206
        },
        "id": "xauQMyTy1yhs",
        "outputId": "9e960360-9202-4204-e4d2-6a4579c8fc7d"
      },
      "execution_count": 4,
      "outputs": [
        {
          "output_type": "execute_result",
          "data": {
            "text/plain": [
              "                       Datetime        Open        High         Low  \\\n",
              "1760  2022-08-26 15:40:00-04:00  164.149994  164.179993  163.559998   \n",
              "1761  2022-08-26 15:45:00-04:00  163.679993  164.020004  163.669296   \n",
              "1762  2022-08-26 15:50:00-04:00  164.014999  164.260101  163.759995   \n",
              "1763  2022-08-26 15:55:00-04:00  163.809998  164.089996  163.559998   \n",
              "1764  2022-08-26 16:00:00-04:00  163.619995  163.619995  163.619995   \n",
              "\n",
              "           Close   Adj Close   Volume  \n",
              "1760  163.679993  163.679993  1410696  \n",
              "1761  164.011002  164.011002  1324812  \n",
              "1762  163.809998  163.809998  2409080  \n",
              "1763  163.660004  163.660004  3890809  \n",
              "1764  163.619995  163.619995        0  "
            ],
            "text/html": [
              "\n",
              "  <div id=\"df-890fde92-44cf-4864-8e5f-66243e3075f0\">\n",
              "    <div class=\"colab-df-container\">\n",
              "      <div>\n",
              "<style scoped>\n",
              "    .dataframe tbody tr th:only-of-type {\n",
              "        vertical-align: middle;\n",
              "    }\n",
              "\n",
              "    .dataframe tbody tr th {\n",
              "        vertical-align: top;\n",
              "    }\n",
              "\n",
              "    .dataframe thead th {\n",
              "        text-align: right;\n",
              "    }\n",
              "</style>\n",
              "<table border=\"1\" class=\"dataframe\">\n",
              "  <thead>\n",
              "    <tr style=\"text-align: right;\">\n",
              "      <th></th>\n",
              "      <th>Datetime</th>\n",
              "      <th>Open</th>\n",
              "      <th>High</th>\n",
              "      <th>Low</th>\n",
              "      <th>Close</th>\n",
              "      <th>Adj Close</th>\n",
              "      <th>Volume</th>\n",
              "    </tr>\n",
              "  </thead>\n",
              "  <tbody>\n",
              "    <tr>\n",
              "      <th>1760</th>\n",
              "      <td>2022-08-26 15:40:00-04:00</td>\n",
              "      <td>164.149994</td>\n",
              "      <td>164.179993</td>\n",
              "      <td>163.559998</td>\n",
              "      <td>163.679993</td>\n",
              "      <td>163.679993</td>\n",
              "      <td>1410696</td>\n",
              "    </tr>\n",
              "    <tr>\n",
              "      <th>1761</th>\n",
              "      <td>2022-08-26 15:45:00-04:00</td>\n",
              "      <td>163.679993</td>\n",
              "      <td>164.020004</td>\n",
              "      <td>163.669296</td>\n",
              "      <td>164.011002</td>\n",
              "      <td>164.011002</td>\n",
              "      <td>1324812</td>\n",
              "    </tr>\n",
              "    <tr>\n",
              "      <th>1762</th>\n",
              "      <td>2022-08-26 15:50:00-04:00</td>\n",
              "      <td>164.014999</td>\n",
              "      <td>164.260101</td>\n",
              "      <td>163.759995</td>\n",
              "      <td>163.809998</td>\n",
              "      <td>163.809998</td>\n",
              "      <td>2409080</td>\n",
              "    </tr>\n",
              "    <tr>\n",
              "      <th>1763</th>\n",
              "      <td>2022-08-26 15:55:00-04:00</td>\n",
              "      <td>163.809998</td>\n",
              "      <td>164.089996</td>\n",
              "      <td>163.559998</td>\n",
              "      <td>163.660004</td>\n",
              "      <td>163.660004</td>\n",
              "      <td>3890809</td>\n",
              "    </tr>\n",
              "    <tr>\n",
              "      <th>1764</th>\n",
              "      <td>2022-08-26 16:00:00-04:00</td>\n",
              "      <td>163.619995</td>\n",
              "      <td>163.619995</td>\n",
              "      <td>163.619995</td>\n",
              "      <td>163.619995</td>\n",
              "      <td>163.619995</td>\n",
              "      <td>0</td>\n",
              "    </tr>\n",
              "  </tbody>\n",
              "</table>\n",
              "</div>\n",
              "      <button class=\"colab-df-convert\" onclick=\"convertToInteractive('df-890fde92-44cf-4864-8e5f-66243e3075f0')\"\n",
              "              title=\"Convert this dataframe to an interactive table.\"\n",
              "              style=\"display:none;\">\n",
              "        \n",
              "  <svg xmlns=\"http://www.w3.org/2000/svg\" height=\"24px\"viewBox=\"0 0 24 24\"\n",
              "       width=\"24px\">\n",
              "    <path d=\"M0 0h24v24H0V0z\" fill=\"none\"/>\n",
              "    <path d=\"M18.56 5.44l.94 2.06.94-2.06 2.06-.94-2.06-.94-.94-2.06-.94 2.06-2.06.94zm-11 1L8.5 8.5l.94-2.06 2.06-.94-2.06-.94L8.5 2.5l-.94 2.06-2.06.94zm10 10l.94 2.06.94-2.06 2.06-.94-2.06-.94-.94-2.06-.94 2.06-2.06.94z\"/><path d=\"M17.41 7.96l-1.37-1.37c-.4-.4-.92-.59-1.43-.59-.52 0-1.04.2-1.43.59L10.3 9.45l-7.72 7.72c-.78.78-.78 2.05 0 2.83L4 21.41c.39.39.9.59 1.41.59.51 0 1.02-.2 1.41-.59l7.78-7.78 2.81-2.81c.8-.78.8-2.07 0-2.86zM5.41 20L4 18.59l7.72-7.72 1.47 1.35L5.41 20z\"/>\n",
              "  </svg>\n",
              "      </button>\n",
              "      \n",
              "  <style>\n",
              "    .colab-df-container {\n",
              "      display:flex;\n",
              "      flex-wrap:wrap;\n",
              "      gap: 12px;\n",
              "    }\n",
              "\n",
              "    .colab-df-convert {\n",
              "      background-color: #E8F0FE;\n",
              "      border: none;\n",
              "      border-radius: 50%;\n",
              "      cursor: pointer;\n",
              "      display: none;\n",
              "      fill: #1967D2;\n",
              "      height: 32px;\n",
              "      padding: 0 0 0 0;\n",
              "      width: 32px;\n",
              "    }\n",
              "\n",
              "    .colab-df-convert:hover {\n",
              "      background-color: #E2EBFA;\n",
              "      box-shadow: 0px 1px 2px rgba(60, 64, 67, 0.3), 0px 1px 3px 1px rgba(60, 64, 67, 0.15);\n",
              "      fill: #174EA6;\n",
              "    }\n",
              "\n",
              "    [theme=dark] .colab-df-convert {\n",
              "      background-color: #3B4455;\n",
              "      fill: #D2E3FC;\n",
              "    }\n",
              "\n",
              "    [theme=dark] .colab-df-convert:hover {\n",
              "      background-color: #434B5C;\n",
              "      box-shadow: 0px 1px 3px 1px rgba(0, 0, 0, 0.15);\n",
              "      filter: drop-shadow(0px 1px 2px rgba(0, 0, 0, 0.3));\n",
              "      fill: #FFFFFF;\n",
              "    }\n",
              "  </style>\n",
              "\n",
              "      <script>\n",
              "        const buttonEl =\n",
              "          document.querySelector('#df-890fde92-44cf-4864-8e5f-66243e3075f0 button.colab-df-convert');\n",
              "        buttonEl.style.display =\n",
              "          google.colab.kernel.accessAllowed ? 'block' : 'none';\n",
              "\n",
              "        async function convertToInteractive(key) {\n",
              "          const element = document.querySelector('#df-890fde92-44cf-4864-8e5f-66243e3075f0');\n",
              "          const dataTable =\n",
              "            await google.colab.kernel.invokeFunction('convertToInteractive',\n",
              "                                                     [key], {});\n",
              "          if (!dataTable) return;\n",
              "\n",
              "          const docLinkHtml = 'Like what you see? Visit the ' +\n",
              "            '<a target=\"_blank\" href=https://colab.research.google.com/notebooks/data_table.ipynb>data table notebook</a>'\n",
              "            + ' to learn more about interactive tables.';\n",
              "          element.innerHTML = '';\n",
              "          dataTable['output_type'] = 'display_data';\n",
              "          await google.colab.output.renderOutput(dataTable, element);\n",
              "          const docLink = document.createElement('div');\n",
              "          docLink.innerHTML = docLinkHtml;\n",
              "          element.appendChild(docLink);\n",
              "        }\n",
              "      </script>\n",
              "    </div>\n",
              "  </div>\n",
              "  "
            ]
          },
          "metadata": {},
          "execution_count": 4
        }
      ]
    },
    {
      "cell_type": "code",
      "source": [
        "data.shape"
      ],
      "metadata": {
        "colab": {
          "base_uri": "https://localhost:8080/"
        },
        "id": "hdGRQqpc149I",
        "outputId": "bc305e4a-149a-4be8-81b8-e9fa74028b7d"
      },
      "execution_count": 5,
      "outputs": [
        {
          "output_type": "execute_result",
          "data": {
            "text/plain": [
              "(1765, 7)"
            ]
          },
          "metadata": {},
          "execution_count": 5
        }
      ]
    },
    {
      "cell_type": "code",
      "source": [
        "data['Datetime'].dtype"
      ],
      "metadata": {
        "colab": {
          "base_uri": "https://localhost:8080/"
        },
        "id": "bKImRj2P343p",
        "outputId": "ddcc794a-2d3f-4d2e-dd4c-97afffb6398a"
      },
      "execution_count": 6,
      "outputs": [
        {
          "output_type": "execute_result",
          "data": {
            "text/plain": [
              "dtype('O')"
            ]
          },
          "metadata": {},
          "execution_count": 6
        }
      ]
    },
    {
      "cell_type": "code",
      "source": [
        "data['Datetime']=pd.to_datetime(data['Datetime'])\n",
        "data.set_index('Datetime')"
      ],
      "metadata": {
        "colab": {
          "base_uri": "https://localhost:8080/",
          "height": 455
        },
        "id": "GPcooElW3-gJ",
        "outputId": "7d17c428-968c-4cb4-a131-28efa238bc29"
      },
      "execution_count": 13,
      "outputs": [
        {
          "output_type": "execute_result",
          "data": {
            "text/plain": [
              "                                 Open        High         Low       Close  \\\n",
              "Datetime                                                                    \n",
              "2022-07-27 12:00:00-04:00  154.160004  154.259995  154.014999  154.220001   \n",
              "2022-07-27 12:05:00-04:00  154.220001  154.300003  154.125000  154.235001   \n",
              "2022-07-27 12:10:00-04:00  154.229996  154.419998  154.149994  154.414993   \n",
              "2022-07-27 12:15:00-04:00  154.414993  154.520004  154.339996  154.440002   \n",
              "2022-07-27 12:20:00-04:00  154.440002  154.485001  154.360001  154.399994   \n",
              "...                               ...         ...         ...         ...   \n",
              "2022-08-26 15:40:00-04:00  164.149994  164.179993  163.559998  163.679993   \n",
              "2022-08-26 15:45:00-04:00  163.679993  164.020004  163.669296  164.011002   \n",
              "2022-08-26 15:50:00-04:00  164.014999  164.260101  163.759995  163.809998   \n",
              "2022-08-26 15:55:00-04:00  163.809998  164.089996  163.559998  163.660004   \n",
              "2022-08-26 16:00:00-04:00  163.619995  163.619995  163.619995  163.619995   \n",
              "\n",
              "                            Adj Close   Volume  \n",
              "Datetime                                        \n",
              "2022-07-27 12:00:00-04:00  154.220001        0  \n",
              "2022-07-27 12:05:00-04:00  154.235001   334022  \n",
              "2022-07-27 12:10:00-04:00  154.414993   388741  \n",
              "2022-07-27 12:15:00-04:00  154.440002   427884  \n",
              "2022-07-27 12:20:00-04:00  154.399994   306407  \n",
              "...                               ...      ...  \n",
              "2022-08-26 15:40:00-04:00  163.679993  1410696  \n",
              "2022-08-26 15:45:00-04:00  164.011002  1324812  \n",
              "2022-08-26 15:50:00-04:00  163.809998  2409080  \n",
              "2022-08-26 15:55:00-04:00  163.660004  3890809  \n",
              "2022-08-26 16:00:00-04:00  163.619995        0  \n",
              "\n",
              "[1765 rows x 6 columns]"
            ],
            "text/html": [
              "\n",
              "  <div id=\"df-11a2d799-16cd-4ac0-b296-15a80b93c29a\">\n",
              "    <div class=\"colab-df-container\">\n",
              "      <div>\n",
              "<style scoped>\n",
              "    .dataframe tbody tr th:only-of-type {\n",
              "        vertical-align: middle;\n",
              "    }\n",
              "\n",
              "    .dataframe tbody tr th {\n",
              "        vertical-align: top;\n",
              "    }\n",
              "\n",
              "    .dataframe thead th {\n",
              "        text-align: right;\n",
              "    }\n",
              "</style>\n",
              "<table border=\"1\" class=\"dataframe\">\n",
              "  <thead>\n",
              "    <tr style=\"text-align: right;\">\n",
              "      <th></th>\n",
              "      <th>Open</th>\n",
              "      <th>High</th>\n",
              "      <th>Low</th>\n",
              "      <th>Close</th>\n",
              "      <th>Adj Close</th>\n",
              "      <th>Volume</th>\n",
              "    </tr>\n",
              "    <tr>\n",
              "      <th>Datetime</th>\n",
              "      <th></th>\n",
              "      <th></th>\n",
              "      <th></th>\n",
              "      <th></th>\n",
              "      <th></th>\n",
              "      <th></th>\n",
              "    </tr>\n",
              "  </thead>\n",
              "  <tbody>\n",
              "    <tr>\n",
              "      <th>2022-07-27 12:00:00-04:00</th>\n",
              "      <td>154.160004</td>\n",
              "      <td>154.259995</td>\n",
              "      <td>154.014999</td>\n",
              "      <td>154.220001</td>\n",
              "      <td>154.220001</td>\n",
              "      <td>0</td>\n",
              "    </tr>\n",
              "    <tr>\n",
              "      <th>2022-07-27 12:05:00-04:00</th>\n",
              "      <td>154.220001</td>\n",
              "      <td>154.300003</td>\n",
              "      <td>154.125000</td>\n",
              "      <td>154.235001</td>\n",
              "      <td>154.235001</td>\n",
              "      <td>334022</td>\n",
              "    </tr>\n",
              "    <tr>\n",
              "      <th>2022-07-27 12:10:00-04:00</th>\n",
              "      <td>154.229996</td>\n",
              "      <td>154.419998</td>\n",
              "      <td>154.149994</td>\n",
              "      <td>154.414993</td>\n",
              "      <td>154.414993</td>\n",
              "      <td>388741</td>\n",
              "    </tr>\n",
              "    <tr>\n",
              "      <th>2022-07-27 12:15:00-04:00</th>\n",
              "      <td>154.414993</td>\n",
              "      <td>154.520004</td>\n",
              "      <td>154.339996</td>\n",
              "      <td>154.440002</td>\n",
              "      <td>154.440002</td>\n",
              "      <td>427884</td>\n",
              "    </tr>\n",
              "    <tr>\n",
              "      <th>2022-07-27 12:20:00-04:00</th>\n",
              "      <td>154.440002</td>\n",
              "      <td>154.485001</td>\n",
              "      <td>154.360001</td>\n",
              "      <td>154.399994</td>\n",
              "      <td>154.399994</td>\n",
              "      <td>306407</td>\n",
              "    </tr>\n",
              "    <tr>\n",
              "      <th>...</th>\n",
              "      <td>...</td>\n",
              "      <td>...</td>\n",
              "      <td>...</td>\n",
              "      <td>...</td>\n",
              "      <td>...</td>\n",
              "      <td>...</td>\n",
              "    </tr>\n",
              "    <tr>\n",
              "      <th>2022-08-26 15:40:00-04:00</th>\n",
              "      <td>164.149994</td>\n",
              "      <td>164.179993</td>\n",
              "      <td>163.559998</td>\n",
              "      <td>163.679993</td>\n",
              "      <td>163.679993</td>\n",
              "      <td>1410696</td>\n",
              "    </tr>\n",
              "    <tr>\n",
              "      <th>2022-08-26 15:45:00-04:00</th>\n",
              "      <td>163.679993</td>\n",
              "      <td>164.020004</td>\n",
              "      <td>163.669296</td>\n",
              "      <td>164.011002</td>\n",
              "      <td>164.011002</td>\n",
              "      <td>1324812</td>\n",
              "    </tr>\n",
              "    <tr>\n",
              "      <th>2022-08-26 15:50:00-04:00</th>\n",
              "      <td>164.014999</td>\n",
              "      <td>164.260101</td>\n",
              "      <td>163.759995</td>\n",
              "      <td>163.809998</td>\n",
              "      <td>163.809998</td>\n",
              "      <td>2409080</td>\n",
              "    </tr>\n",
              "    <tr>\n",
              "      <th>2022-08-26 15:55:00-04:00</th>\n",
              "      <td>163.809998</td>\n",
              "      <td>164.089996</td>\n",
              "      <td>163.559998</td>\n",
              "      <td>163.660004</td>\n",
              "      <td>163.660004</td>\n",
              "      <td>3890809</td>\n",
              "    </tr>\n",
              "    <tr>\n",
              "      <th>2022-08-26 16:00:00-04:00</th>\n",
              "      <td>163.619995</td>\n",
              "      <td>163.619995</td>\n",
              "      <td>163.619995</td>\n",
              "      <td>163.619995</td>\n",
              "      <td>163.619995</td>\n",
              "      <td>0</td>\n",
              "    </tr>\n",
              "  </tbody>\n",
              "</table>\n",
              "<p>1765 rows × 6 columns</p>\n",
              "</div>\n",
              "      <button class=\"colab-df-convert\" onclick=\"convertToInteractive('df-11a2d799-16cd-4ac0-b296-15a80b93c29a')\"\n",
              "              title=\"Convert this dataframe to an interactive table.\"\n",
              "              style=\"display:none;\">\n",
              "        \n",
              "  <svg xmlns=\"http://www.w3.org/2000/svg\" height=\"24px\"viewBox=\"0 0 24 24\"\n",
              "       width=\"24px\">\n",
              "    <path d=\"M0 0h24v24H0V0z\" fill=\"none\"/>\n",
              "    <path d=\"M18.56 5.44l.94 2.06.94-2.06 2.06-.94-2.06-.94-.94-2.06-.94 2.06-2.06.94zm-11 1L8.5 8.5l.94-2.06 2.06-.94-2.06-.94L8.5 2.5l-.94 2.06-2.06.94zm10 10l.94 2.06.94-2.06 2.06-.94-2.06-.94-.94-2.06-.94 2.06-2.06.94z\"/><path d=\"M17.41 7.96l-1.37-1.37c-.4-.4-.92-.59-1.43-.59-.52 0-1.04.2-1.43.59L10.3 9.45l-7.72 7.72c-.78.78-.78 2.05 0 2.83L4 21.41c.39.39.9.59 1.41.59.51 0 1.02-.2 1.41-.59l7.78-7.78 2.81-2.81c.8-.78.8-2.07 0-2.86zM5.41 20L4 18.59l7.72-7.72 1.47 1.35L5.41 20z\"/>\n",
              "  </svg>\n",
              "      </button>\n",
              "      \n",
              "  <style>\n",
              "    .colab-df-container {\n",
              "      display:flex;\n",
              "      flex-wrap:wrap;\n",
              "      gap: 12px;\n",
              "    }\n",
              "\n",
              "    .colab-df-convert {\n",
              "      background-color: #E8F0FE;\n",
              "      border: none;\n",
              "      border-radius: 50%;\n",
              "      cursor: pointer;\n",
              "      display: none;\n",
              "      fill: #1967D2;\n",
              "      height: 32px;\n",
              "      padding: 0 0 0 0;\n",
              "      width: 32px;\n",
              "    }\n",
              "\n",
              "    .colab-df-convert:hover {\n",
              "      background-color: #E2EBFA;\n",
              "      box-shadow: 0px 1px 2px rgba(60, 64, 67, 0.3), 0px 1px 3px 1px rgba(60, 64, 67, 0.15);\n",
              "      fill: #174EA6;\n",
              "    }\n",
              "\n",
              "    [theme=dark] .colab-df-convert {\n",
              "      background-color: #3B4455;\n",
              "      fill: #D2E3FC;\n",
              "    }\n",
              "\n",
              "    [theme=dark] .colab-df-convert:hover {\n",
              "      background-color: #434B5C;\n",
              "      box-shadow: 0px 1px 3px 1px rgba(0, 0, 0, 0.15);\n",
              "      filter: drop-shadow(0px 1px 2px rgba(0, 0, 0, 0.3));\n",
              "      fill: #FFFFFF;\n",
              "    }\n",
              "  </style>\n",
              "\n",
              "      <script>\n",
              "        const buttonEl =\n",
              "          document.querySelector('#df-11a2d799-16cd-4ac0-b296-15a80b93c29a button.colab-df-convert');\n",
              "        buttonEl.style.display =\n",
              "          google.colab.kernel.accessAllowed ? 'block' : 'none';\n",
              "\n",
              "        async function convertToInteractive(key) {\n",
              "          const element = document.querySelector('#df-11a2d799-16cd-4ac0-b296-15a80b93c29a');\n",
              "          const dataTable =\n",
              "            await google.colab.kernel.invokeFunction('convertToInteractive',\n",
              "                                                     [key], {});\n",
              "          if (!dataTable) return;\n",
              "\n",
              "          const docLinkHtml = 'Like what you see? Visit the ' +\n",
              "            '<a target=\"_blank\" href=https://colab.research.google.com/notebooks/data_table.ipynb>data table notebook</a>'\n",
              "            + ' to learn more about interactive tables.';\n",
              "          element.innerHTML = '';\n",
              "          dataTable['output_type'] = 'display_data';\n",
              "          await google.colab.output.renderOutput(dataTable, element);\n",
              "          const docLink = document.createElement('div');\n",
              "          docLink.innerHTML = docLinkHtml;\n",
              "          element.appendChild(docLink);\n",
              "        }\n",
              "      </script>\n",
              "    </div>\n",
              "  </div>\n",
              "  "
            ]
          },
          "metadata": {},
          "execution_count": 13
        }
      ]
    },
    {
      "cell_type": "code",
      "source": [
        "X=data['Datetime']"
      ],
      "metadata": {
        "id": "Btx_Hvzy4O_8"
      },
      "execution_count": 14,
      "outputs": []
    },
    {
      "cell_type": "code",
      "source": [
        "y_name=\"Close\"\n",
        "y=data[y_name]"
      ],
      "metadata": {
        "id": "qU8uXDqU4TS5"
      },
      "execution_count": 15,
      "outputs": []
    },
    {
      "cell_type": "code",
      "source": [
        "X.shape,y.shape"
      ],
      "metadata": {
        "colab": {
          "base_uri": "https://localhost:8080/"
        },
        "id": "Y_L-feTB4e5k",
        "outputId": "59762110-c98d-4e6b-8aba-ebd211955962"
      },
      "execution_count": 16,
      "outputs": [
        {
          "output_type": "execute_result",
          "data": {
            "text/plain": [
              "((1765,), (1765,))"
            ]
          },
          "metadata": {},
          "execution_count": 16
        }
      ]
    },
    {
      "cell_type": "code",
      "source": [
        "plt.figure(figsize=(10,6))\n",
        "plt.grid(True)\n",
        "plt.xlabel('Date')\n",
        "plt.ylabel('Close Prices')\n",
        "plt.plot(data['Close'])\n",
        "plt.title('APPL closing price')\n",
        "plt.show()"
      ],
      "metadata": {
        "colab": {
          "base_uri": "https://localhost:8080/",
          "height": 404
        },
        "id": "cvXm7v3q4g1E",
        "outputId": "e08fe36a-76de-4283-d80e-8dbb1cf224ab"
      },
      "execution_count": 17,
      "outputs": [
        {
          "output_type": "display_data",
          "data": {
            "text/plain": [
              "<Figure size 720x432 with 1 Axes>"
            ],
            "image/png": "[encoded data removed]"
          },
          "metadata": {
            "needs_background": "light"
          }
        }
      ]
    },
    {
      "cell_type": "code",
      "source": [
        "plt.figure(figsize=(10,6))\n",
        "plt.grid(True)\n",
        "plt.xlabel('Date')\n",
        "plt.ylabel('Open prices')\n",
        "plt.plot(data['Open'])\n",
        "plt.title('APPL Open price')\n",
        "plt.show()"
      ],
      "metadata": {
        "colab": {
          "base_uri": "https://localhost:8080/",
          "height": 404
        },
        "id": "nyCasmA_a961",
        "outputId": "1c350e9f-9157-49ae-ec5d-cf24cc89ada8"
      },
      "execution_count": 18,
      "outputs": [
        {
          "output_type": "display_data",
          "data": {
            "text/plain": [
              "<Figure size 720x432 with 1 Axes>"
            ],
            "image/png": "[encoded data removed]"
          },
          "metadata": {
            "needs_background": "light"
          }
        }
      ]
    },
    {
      "cell_type": "code",
      "source": [
        "from pmdarima.arima import ADFTest\n",
        "adf_test=ADFTest(alpha=0.05)\n",
        "adf_test.should_diff(data['Close'])"
      ],
      "metadata": {
        "colab": {
          "base_uri": "https://localhost:8080/"
        },
        "id": "PvkuszWgbDLO",
        "outputId": "3c6f725b-828b-48df-8d3e-9aa475622904"
      },
      "execution_count": 24,
      "outputs": [
        {
          "output_type": "execute_result",
          "data": {
            "text/plain": [
              "(0.9006241351668466, True)"
            ]
          },
          "metadata": {},
          "execution_count": 24
        }
      ]
    },
    {
      "cell_type": "markdown",
      "source": [
        "p value is 0.90 ,so the series is not stationary. \n",
        "\n",
        "p value should be less than 0.05\n"
      ],
      "metadata": {
        "id": "UP9Y2YsFc7ui"
      }
    },
    {
      "cell_type": "code",
      "source": [
        "from statsmodels.graphics.tsaplots import plot_acf,plot_pacf\n"
      ],
      "metadata": {
        "id": "zCXzE3mDcJOa"
      },
      "execution_count": 25,
      "outputs": []
    },
    {
      "cell_type": "code",
      "source": [
        "plot_acf(data[y_name].values)\n",
        "plt.show()"
      ],
      "metadata": {
        "colab": {
          "base_uri": "https://localhost:8080/",
          "height": 281
        },
        "id": "MAlctmmGddWl",
        "outputId": "151e6082-989c-4e15-fb85-98bc2740e448"
      },
      "execution_count": 26,
      "outputs": [
        {
          "output_type": "display_data",
          "data": {
            "text/plain": [
              "<Figure size 432x288 with 1 Axes>"
            ],
            "image/png": "[encoded data removed]"
          },
          "metadata": {
            "needs_background": "light"
          }
        }
      ]
    },
    {
      "cell_type": "code",
      "source": [
        "differnce1=data[y_name].diff().dropna()\n",
        "fig, (ax1,ax2)=plt.subplots(1,2,figsize=(16,6))\n",
        "\n",
        "ax1.plot(differnce1)\n",
        "plot_acf(differnce1,ax=ax2)\n",
        "plt.show()"
      ],
      "metadata": {
        "colab": {
          "base_uri": "https://localhost:8080/",
          "height": 390
        },
        "id": "KpLf-KGbdeYC",
        "outputId": "1376192d-013e-4385-8e21-4f2baad31103"
      },
      "execution_count": 27,
      "outputs": [
        {
          "output_type": "display_data",
          "data": {
            "text/plain": [
              "<Figure size 1152x432 with 2 Axes>"
            ],
            "image/png": "[encoded data removed]"
          },
          "metadata": {
            "needs_background": "light"
          }
        }
      ]
    },
    {
      "cell_type": "code",
      "source": [
        "differnce2=data[y_name].diff().diff().dropna()\n",
        "fig, (ax1,ax2)=plt.subplots(1,2,figsize=(16,6))\n",
        "\n",
        "ax1.plot(differnce2)\n",
        "plot_acf(differnce2,ax=ax2)\n",
        "plt.show()"
      ],
      "metadata": {
        "colab": {
          "base_uri": "https://localhost:8080/",
          "height": 390
        },
        "id": "R3KWWg3Rd7_7",
        "outputId": "aacd2dc7-aead-432d-d460-44f442998ca8"
      },
      "execution_count": 28,
      "outputs": [
        {
          "output_type": "display_data",
          "data": {
            "text/plain": [
              "<Figure size 1152x432 with 2 Axes>"
            ],
            "image/png": "[encoded data removed]"
          },
          "metadata": {
            "needs_background": "light"
          }
        }
      ]
    },
    {
      "cell_type": "code",
      "source": [
        "from pmdarima.arima.utils import ndiffs"
      ],
      "metadata": {
        "id": "SXN0Y6c9d-dO"
      },
      "execution_count": 29,
      "outputs": []
    },
    {
      "cell_type": "code",
      "source": [
        "ndiffs(data[y_name],test=\"adf\")"
      ],
      "metadata": {
        "colab": {
          "base_uri": "https://localhost:8080/"
        },
        "id": "3LT9gBU_eGIR",
        "outputId": "64836091-d327-4110-bc79-34d2f677ab33"
      },
      "execution_count": 31,
      "outputs": [
        {
          "output_type": "execute_result",
          "data": {
            "text/plain": [
              "1"
            ]
          },
          "metadata": {},
          "execution_count": 31
        }
      ]
    },
    {
      "cell_type": "code",
      "source": [
        "plot_pacf(differnce1)\n",
        "plt.show()"
      ],
      "metadata": {
        "colab": {
          "base_uri": "https://localhost:8080/",
          "height": 336
        },
        "id": "Oe7a4WDJeJIO",
        "outputId": "f1c0030e-b1bb-41b6-85ae-108aa5269a9b"
      },
      "execution_count": 32,
      "outputs": [
        {
          "output_type": "stream",
          "name": "stderr",
          "text": [
            "/usr/local/lib/python3.7/dist-packages/statsmodels/graphics/tsaplots.py:353: FutureWarning: The default method 'yw' can produce PACF values outside of the [-1,1] interval. After 0.13, the default will change tounadjusted Yule-Walker ('ywm'). You can use this method now by setting method='ywm'.\n",
            "  FutureWarning,\n"
          ]
        },
        {
          "output_type": "display_data",
          "data": {
            "text/plain": [
              "<Figure size 432x288 with 1 Axes>"
            ],
            "image/png": "[encoded data removed]"
          },
          "metadata": {
            "needs_background": "light"
          }
        }
      ]
    },
    {
      "cell_type": "code",
      "source": [
        "plot_acf(differnce1)\n",
        "plt.show()"
      ],
      "metadata": {
        "colab": {
          "base_uri": "https://localhost:8080/",
          "height": 281
        },
        "id": "7dawtynxePgm",
        "outputId": "bf400f4f-4751-4fcd-83c3-61b58e24ce6f"
      },
      "execution_count": 33,
      "outputs": [
        {
          "output_type": "display_data",
          "data": {
            "text/plain": [
              "<Figure size 432x288 with 1 Axes>"
            ],
            "image/png": "[encoded data removed]"
          },
          "metadata": {
            "needs_background": "light"
          }
        }
      ]
    },
    {
      "cell_type": "markdown",
      "source": [
        "p=3\n",
        "d=1\n",
        "q=2\n"
      ],
      "metadata": {
        "id": "ncg_tbiOercI"
      }
    },
    {
      "cell_type": "code",
      "source": [
        "df=data[y_name]\n",
        "# train_size=int((df.count()/100)*75)\n",
        "train_size=50\n",
        "train=df[:train_size]\n",
        "# test_size=df.count()-train_size\n",
        "test=df[-1715:-1706]"
      ],
      "metadata": {
        "id": "I8fJmy0peZs-"
      },
      "execution_count": 86,
      "outputs": []
    },
    {
      "cell_type": "code",
      "source": [
        "train_size,test_size,train_size+test_size"
      ],
      "metadata": {
        "colab": {
          "base_uri": "https://localhost:8080/"
        },
        "id": "gA3kAFiQfwcP",
        "outputId": "ae47509a-753d-4e8f-8ef5-9af171219ebd"
      },
      "execution_count": 77,
      "outputs": [
        {
          "output_type": "execute_result",
          "data": {
            "text/plain": [
              "(50, 442, 492)"
            ]
          },
          "metadata": {},
          "execution_count": 77
        }
      ]
    },
    {
      "cell_type": "code",
      "source": [
        "test"
      ],
      "metadata": {
        "colab": {
          "base_uri": "https://localhost:8080/"
        },
        "id": "pybgaJjUl4ol",
        "outputId": "785f4bff-c666-400c-f231-1b5c329ac7af"
      },
      "execution_count": 87,
      "outputs": [
        {
          "output_type": "execute_result",
          "data": {
            "text/plain": [
              "50    155.330002\n",
              "51    155.315002\n",
              "52    155.050003\n",
              "53    155.410004\n",
              "54    155.863693\n",
              "55    155.330002\n",
              "56    155.409897\n",
              "57    155.270004\n",
              "58    154.929993\n",
              "Name: Close, dtype: float64"
            ]
          },
          "metadata": {},
          "execution_count": 87
        }
      ]
    },
    {
      "cell_type": "code",
      "source": [
        "train"
      ],
      "metadata": {
        "colab": {
          "base_uri": "https://localhost:8080/"
        },
        "id": "EoQl55-emDVJ",
        "outputId": "354e6891-64e3-4fbf-ee2d-dda2934a5153"
      },
      "execution_count": 88,
      "outputs": [
        {
          "output_type": "execute_result",
          "data": {
            "text/plain": [
              "0     154.220001\n",
              "1     154.235001\n",
              "2     154.414993\n",
              "3     154.440002\n",
              "4     154.399994\n",
              "5     154.384995\n",
              "6     154.259995\n",
              "7     154.201508\n",
              "8     154.191696\n",
              "9     154.149994\n",
              "10    154.360001\n",
              "11    154.259995\n",
              "12    154.325500\n",
              "13    154.452194\n",
              "14    154.524994\n",
              "15    154.320007\n",
              "16    154.350006\n",
              "17    154.419998\n",
              "18    154.550003\n",
              "19    154.444595\n",
              "20    154.399902\n",
              "21    154.419998\n",
              "22    154.380005\n",
              "23    154.394302\n",
              "24    154.669907\n",
              "25    154.009995\n",
              "26    154.245499\n",
              "27    154.309998\n",
              "28    154.210007\n",
              "29    154.455002\n",
              "30    154.100006\n",
              "31    155.250000\n",
              "32    155.839996\n",
              "33    155.604004\n",
              "34    156.036194\n",
              "35    155.910004\n",
              "36    156.360001\n",
              "37    156.279999\n",
              "38    156.350006\n",
              "39    156.404999\n",
              "40    156.755005\n",
              "41    157.289902\n",
              "42    157.200699\n",
              "43    157.009995\n",
              "44    157.005005\n",
              "45    156.994995\n",
              "46    156.964996\n",
              "47    156.699997\n",
              "48    156.589996\n",
              "49    155.880005\n",
              "Name: Close, dtype: float64"
            ]
          },
          "metadata": {},
          "execution_count": 88
        }
      ]
    },
    {
      "cell_type": "code",
      "source": [
        "plt.plot(train)\n",
        "plt.plot(test)"
      ],
      "metadata": {
        "colab": {
          "base_uri": "https://localhost:8080/",
          "height": 282
        },
        "id": "J6eyRztafy7S",
        "outputId": "8ac5bdae-ff2d-469d-a801-224fcc9f58d5"
      },
      "execution_count": 89,
      "outputs": [
        {
          "output_type": "execute_result",
          "data": {
            "text/plain": [
              "[<matplotlib.lines.Line2D at 0x7f4cf93bf950>]"
            ]
          },
          "metadata": {},
          "execution_count": 89
        },
        {
          "output_type": "display_data",
          "data": {
            "text/plain": [
              "<Figure size 432x288 with 1 Axes>"
            ],
            "image/png": "[encoded data removed]"
          },
          "metadata": {
            "needs_background": "light"
          }
        }
      ]
    },
    {
      "cell_type": "code",
      "source": [
        "from pmdarima.arima.auto import auto_arima\n",
        "model=auto_arima(train,max_p=3,max_d=1,max_q=2)"
      ],
      "metadata": {
        "id": "i9ynYTkoiB4W"
      },
      "execution_count": 90,
      "outputs": []
    },
    {
      "cell_type": "code",
      "source": [
        "model.summary()"
      ],
      "metadata": {
        "colab": {
          "base_uri": "https://localhost:8080/",
          "height": 381
        },
        "id": "CfR7-mNpjDfN",
        "outputId": "98c57e59-e207-4c1f-aabd-6c66798f0792"
      },
      "execution_count": 91,
      "outputs": [
        {
          "output_type": "execute_result",
          "data": {
            "text/plain": [
              "<class 'statsmodels.iolib.summary.Summary'>\n",
              "\"\"\"\n",
              "                               SARIMAX Results                                \n",
              "==============================================================================\n",
              "Dep. Variable:                      y   No. Observations:                   50\n",
              "Model:               SARIMAX(0, 1, 0)   Log Likelihood                  -9.157\n",
              "Date:                Wed, 21 Sep 2022   AIC                             20.313\n",
              "Time:                        15:10:55   BIC                             22.205\n",
              "Sample:                             0   HQIC                            21.031\n",
              "                                 - 50                                         \n",
              "Covariance Type:                  opg                                         \n",
              "==============================================================================\n",
              "                 coef    std err          z      P>|z|      [0.025      0.975]\n",
              "------------------------------------------------------------------------------\n",
              "sigma2         0.0851      0.010      8.669      0.000       0.066       0.104\n",
              "===================================================================================\n",
              "Ljung-Box (L1) (Q):                   0.42   Jarque-Bera (JB):                36.10\n",
              "Prob(Q):                              0.52   Prob(JB):                         0.00\n",
              "Heteroskedasticity (H):               8.17   Skew:                             0.84\n",
              "Prob(H) (two-sided):                  0.00   Kurtosis:                         6.86\n",
              "===================================================================================\n",
              "\n",
              "Warnings:\n",
              "[1] Covariance matrix calculated using the outer product of gradients (complex-step).\n",
              "\"\"\""
            ],
            "text/html": [
              "<table class=\"simpletable\">\n",
              "<caption>SARIMAX Results</caption>\n",
              "<tr>\n",
              "  <th>Dep. Variable:</th>           <td>y</td>        <th>  No. Observations:  </th>   <td>50</td>  \n",
              "</tr>\n",
              "<tr>\n",
              "  <th>Model:</th>           <td>SARIMAX(0, 1, 0)</td> <th>  Log Likelihood     </th> <td>-9.157</td>\n",
              "</tr>\n",
              "<tr>\n",
              "  <th>Date:</th>            <td>Wed, 21 Sep 2022</td> <th>  AIC                </th> <td>20.313</td>\n",
              "</tr>\n",
              "<tr>\n",
              "  <th>Time:</th>                <td>15:10:55</td>     <th>  BIC                </th> <td>22.205</td>\n",
              "</tr>\n",
              "<tr>\n",
              "  <th>Sample:</th>                  <td>0</td>        <th>  HQIC               </th> <td>21.031</td>\n",
              "</tr>\n",
              "<tr>\n",
              "  <th></th>                       <td> - 50</td>      <th>                     </th>    <td> </td>  \n",
              "</tr>\n",
              "<tr>\n",
              "  <th>Covariance Type:</th>        <td>opg</td>       <th>                     </th>    <td> </td>  \n",
              "</tr>\n",
              "</table>\n",
              "<table class=\"simpletable\">\n",
              "<tr>\n",
              "     <td></td>       <th>coef</th>     <th>std err</th>      <th>z</th>      <th>P>|z|</th>  <th>[0.025</th>    <th>0.975]</th>  \n",
              "</tr>\n",
              "<tr>\n",
              "  <th>sigma2</th> <td>    0.0851</td> <td>    0.010</td> <td>    8.669</td> <td> 0.000</td> <td>    0.066</td> <td>    0.104</td>\n",
              "</tr>\n",
              "</table>\n",
              "<table class=\"simpletable\">\n",
              "<tr>\n",
              "  <th>Ljung-Box (L1) (Q):</th>     <td>0.42</td> <th>  Jarque-Bera (JB):  </th> <td>36.10</td>\n",
              "</tr>\n",
              "<tr>\n",
              "  <th>Prob(Q):</th>                <td>0.52</td> <th>  Prob(JB):          </th> <td>0.00</td> \n",
              "</tr>\n",
              "<tr>\n",
              "  <th>Heteroskedasticity (H):</th> <td>8.17</td> <th>  Skew:              </th> <td>0.84</td> \n",
              "</tr>\n",
              "<tr>\n",
              "  <th>Prob(H) (two-sided):</th>    <td>0.00</td> <th>  Kurtosis:          </th> <td>6.86</td> \n",
              "</tr>\n",
              "</table><br/><br/>Warnings:<br/>[1] Covariance matrix calculated using the outer product of gradients (complex-step)."
            ]
          },
          "metadata": {},
          "execution_count": 91
        }
      ]
    },
    {
      "cell_type": "code",
      "source": [
        "pred=pd.DataFrame(model.predict(n_periods=442),index=test.index)\n",
        "pred.columns=['prediciton_y_name']\n",
        "pred"
      ],
      "metadata": {
        "colab": {
          "base_uri": "https://localhost:8080/",
          "height": 332
        },
        "id": "pxPKl5F-jHVi",
        "outputId": "275fa855-0d66-4113-ea01-10958008ba51"
      },
      "execution_count": 92,
      "outputs": [
        {
          "output_type": "execute_result",
          "data": {
            "text/plain": [
              "    prediciton_y_name\n",
              "50         155.880005\n",
              "51         155.880005\n",
              "52         155.880005\n",
              "53         155.880005\n",
              "54         155.880005\n",
              "55         155.880005\n",
              "56         155.880005\n",
              "57         155.880005\n",
              "58         155.880005"
            ],
            "text/html": [
              "\n",
              "  <div id=\"df-bf3b855f-8e03-469d-9729-61b17dc45cac\">\n",
              "    <div class=\"colab-df-container\">\n",
              "      <div>\n",
              "<style scoped>\n",
              "    .dataframe tbody tr th:only-of-type {\n",
              "        vertical-align: middle;\n",
              "    }\n",
              "\n",
              "    .dataframe tbody tr th {\n",
              "        vertical-align: top;\n",
              "    }\n",
              "\n",
              "    .dataframe thead th {\n",
              "        text-align: right;\n",
              "    }\n",
              "</style>\n",
              "<table border=\"1\" class=\"dataframe\">\n",
              "  <thead>\n",
              "    <tr style=\"text-align: right;\">\n",
              "      <th></th>\n",
              "      <th>prediciton_y_name</th>\n",
              "    </tr>\n",
              "  </thead>\n",
              "  <tbody>\n",
              "    <tr>\n",
              "      <th>50</th>\n",
              "      <td>155.880005</td>\n",
              "    </tr>\n",
              "    <tr>\n",
              "      <th>51</th>\n",
              "      <td>155.880005</td>\n",
              "    </tr>\n",
              "    <tr>\n",
              "      <th>52</th>\n",
              "      <td>155.880005</td>\n",
              "    </tr>\n",
              "    <tr>\n",
              "      <th>53</th>\n",
              "      <td>155.880005</td>\n",
              "    </tr>\n",
              "    <tr>\n",
              "      <th>54</th>\n",
              "      <td>155.880005</td>\n",
              "    </tr>\n",
              "    <tr>\n",
              "      <th>55</th>\n",
              "      <td>155.880005</td>\n",
              "    </tr>\n",
              "    <tr>\n",
              "      <th>56</th>\n",
              "      <td>155.880005</td>\n",
              "    </tr>\n",
              "    <tr>\n",
              "      <th>57</th>\n",
              "      <td>155.880005</td>\n",
              "    </tr>\n",
              "    <tr>\n",
              "      <th>58</th>\n",
              "      <td>155.880005</td>\n",
              "    </tr>\n",
              "  </tbody>\n",
              "</table>\n",
              "</div>\n",
              "      <button class=\"colab-df-convert\" onclick=\"convertToInteractive('df-bf3b855f-8e03-469d-9729-61b17dc45cac')\"\n",
              "              title=\"Convert this dataframe to an interactive table.\"\n",
              "              style=\"display:none;\">\n",
              "        \n",
              "  <svg xmlns=\"http://www.w3.org/2000/svg\" height=\"24px\"viewBox=\"0 0 24 24\"\n",
              "       width=\"24px\">\n",
              "    <path d=\"M0 0h24v24H0V0z\" fill=\"none\"/>\n",
              "    <path d=\"M18.56 5.44l.94 2.06.94-2.06 2.06-.94-2.06-.94-.94-2.06-.94 2.06-2.06.94zm-11 1L8.5 8.5l.94-2.06 2.06-.94-2.06-.94L8.5 2.5l-.94 2.06-2.06.94zm10 10l.94 2.06.94-2.06 2.06-.94-2.06-.94-.94-2.06-.94 2.06-2.06.94z\"/><path d=\"M17.41 7.96l-1.37-1.37c-.4-.4-.92-.59-1.43-.59-.52 0-1.04.2-1.43.59L10.3 9.45l-7.72 7.72c-.78.78-.78 2.05 0 2.83L4 21.41c.39.39.9.59 1.41.59.51 0 1.02-.2 1.41-.59l7.78-7.78 2.81-2.81c.8-.78.8-2.07 0-2.86zM5.41 20L4 18.59l7.72-7.72 1.47 1.35L5.41 20z\"/>\n",
              "  </svg>\n",
              "      </button>\n",
              "      \n",
              "  <style>\n",
              "    .colab-df-container {\n",
              "      display:flex;\n",
              "      flex-wrap:wrap;\n",
              "      gap: 12px;\n",
              "    }\n",
              "\n",
              "    .colab-df-convert {\n",
              "      background-color: #E8F0FE;\n",
              "      border: none;\n",
              "      border-radius: 50%;\n",
              "      cursor: pointer;\n",
              "      display: none;\n",
              "      fill: #1967D2;\n",
              "      height: 32px;\n",
              "      padding: 0 0 0 0;\n",
              "      width: 32px;\n",
              "    }\n",
              "\n",
              "    .colab-df-convert:hover {\n",
              "      background-color: #E2EBFA;\n",
              "      box-shadow: 0px 1px 2px rgba(60, 64, 67, 0.3), 0px 1px 3px 1px rgba(60, 64, 67, 0.15);\n",
              "      fill: #174EA6;\n",
              "    }\n",
              "\n",
              "    [theme=dark] .colab-df-convert {\n",
              "      background-color: #3B4455;\n",
              "      fill: #D2E3FC;\n",
              "    }\n",
              "\n",
              "    [theme=dark] .colab-df-convert:hover {\n",
              "      background-color: #434B5C;\n",
              "      box-shadow: 0px 1px 3px 1px rgba(0, 0, 0, 0.15);\n",
              "      filter: drop-shadow(0px 1px 2px rgba(0, 0, 0, 0.3));\n",
              "      fill: #FFFFFF;\n",
              "    }\n",
              "  </style>\n",
              "\n",
              "      <script>\n",
              "        const buttonEl =\n",
              "          document.querySelector('#df-bf3b855f-8e03-469d-9729-61b17dc45cac button.colab-df-convert');\n",
              "        buttonEl.style.display =\n",
              "          google.colab.kernel.accessAllowed ? 'block' : 'none';\n",
              "\n",
              "        async function convertToInteractive(key) {\n",
              "          const element = document.querySelector('#df-bf3b855f-8e03-469d-9729-61b17dc45cac');\n",
              "          const dataTable =\n",
              "            await google.colab.kernel.invokeFunction('convertToInteractive',\n",
              "                                                     [key], {});\n",
              "          if (!dataTable) return;\n",
              "\n",
              "          const docLinkHtml = 'Like what you see? Visit the ' +\n",
              "            '<a target=\"_blank\" href=https://colab.research.google.com/notebooks/data_table.ipynb>data table notebook</a>'\n",
              "            + ' to learn more about interactive tables.';\n",
              "          element.innerHTML = '';\n",
              "          dataTable['output_type'] = 'display_data';\n",
              "          await google.colab.output.renderOutput(dataTable, element);\n",
              "          const docLink = document.createElement('div');\n",
              "          docLink.innerHTML = docLinkHtml;\n",
              "          element.appendChild(docLink);\n",
              "        }\n",
              "      </script>\n",
              "    </div>\n",
              "  </div>\n",
              "  "
            ]
          },
          "metadata": {},
          "execution_count": 92
        }
      ]
    },
    {
      "cell_type": "code",
      "source": [
        "test"
      ],
      "metadata": {
        "colab": {
          "base_uri": "https://localhost:8080/"
        },
        "id": "3KfEg-19juvD",
        "outputId": "7cc20ca6-86ac-4692-ed5b-a2c3604f7666"
      },
      "execution_count": 93,
      "outputs": [
        {
          "output_type": "execute_result",
          "data": {
            "text/plain": [
              "50    155.330002\n",
              "51    155.315002\n",
              "52    155.050003\n",
              "53    155.410004\n",
              "54    155.863693\n",
              "55    155.330002\n",
              "56    155.409897\n",
              "57    155.270004\n",
              "58    154.929993\n",
              "Name: Close, dtype: float64"
            ]
          },
          "metadata": {},
          "execution_count": 93
        }
      ]
    },
    {
      "cell_type": "code",
      "source": [
        "plt.plot(pred)\n",
        "plt.plot(test)"
      ],
      "metadata": {
        "colab": {
          "base_uri": "https://localhost:8080/",
          "height": 282
        },
        "id": "148BxU64jxTz",
        "outputId": "eacdebda-207e-4886-9ba9-0593d2501735"
      },
      "execution_count": 94,
      "outputs": [
        {
          "output_type": "execute_result",
          "data": {
            "text/plain": [
              "[<matplotlib.lines.Line2D at 0x7f4cf96438d0>]"
            ]
          },
          "metadata": {},
          "execution_count": 94
        },
        {
          "output_type": "display_data",
          "data": {
            "text/plain": [
              "<Figure size 432x288 with 1 Axes>"
            ],
            "image/png": "[encoded data removed]"
          },
          "metadata": {
            "needs_background": "light"
          }
        }
      ]
    }
  ]
}